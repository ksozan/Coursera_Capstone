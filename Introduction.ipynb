{
 "cells": [
  {
   "cell_type": "markdown",
   "metadata": {},
   "source": [
    "## Introduction - Business problem\n",
    "\n",
    "Warsaw - the city I live in - is the capital of Poland. The country's GDP has been now growing continously for 26 years (an EU record), with the economy doubling during this time and exponential characteristics of the growth. **Warsaw**, as the definite financial, political and social centre of the country, experiences some dramatic changes due to this rapid development. Not only the city's population keeps increasing, but also the overall life quality, aspirations, and purchasing power of the citizens is on the rise.\n",
    "![title](https://i.wpimg.pl/985x0/m.fotoblogia.pl/dsc5004-870d4c50b63cfe5ff7f0f957.jpg)\n",
    "\n",
    "\n",
    "\n"
   ]
  },
  {
   "cell_type": "markdown",
   "metadata": {},
   "source": [
    "Naturally, all these economic and social changes reflect in the daily habits of the people. "
   ]
  }
 ],
 "metadata": {
  "kernelspec": {
   "display_name": "Python 3",
   "language": "python",
   "name": "python3"
  },
  "language_info": {
   "codemirror_mode": {
    "name": "ipython",
    "version": 3
   },
   "file_extension": ".py",
   "mimetype": "text/x-python",
   "name": "python",
   "nbconvert_exporter": "python",
   "pygments_lexer": "ipython3",
   "version": "3.7.1"
  }
 },
 "nbformat": 4,
 "nbformat_minor": 2
}
