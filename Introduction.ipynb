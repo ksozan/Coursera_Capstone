{
 "cells": [
  {
   "cell_type": "markdown",
   "metadata": {},
   "source": [
    "## Introduction: Business problem\n",
    "\n",
    "Warsaw - the city I live in - is the capital of Poland. The country's GDP has been now growing continously for 26 years (an EU record), with the economy doubling during this time and exponential characteristics of the growth. **Warsaw**, as the definite financial, political and social centre of the country, experiences some dramatic changes due to this rapid development. Not only the city's population keeps increasing, but also the overall quality of life, aspirations, and purchasing power of the citizens is on the rise.\n",
    "![title](https://i.wpimg.pl/985x0/m.fotoblogia.pl/dsc5004-870d4c50b63cfe5ff7f0f957.jpg)"
   ]
  },
  {
   "cell_type": "markdown",
   "metadata": {},
   "source": [
    "Naturally, all these economic and social changes reflect in the daily habits of the people. One of these is the increasing tendency to eat out instead of cooking at home. This of course means that **plenty of new restaurants open**, with more and more varied offer. However, despite the growing demand on the market, many of the new eateries fail and **go bankrupt within the first few months**. Among the rapid changes on the food landscape of the city, it seems that quite many of the new openings are chaotic and randomly placed. Yet, among the most crucial factors determining success of such investments are their **location and profie**. ![title](https://cdnimg.webstaurantstore.com/uploads/buying_guide/2014/4/failure_outofbusiness.jpg)"
   ]
  },
  {
   "cell_type": "markdown",
   "metadata": {},
   "source": [
    "This project is an attempt to see whether simple analytical approach can provide valuable insights for enterpreneurs willing to open new restaurants. It is focused on Warsaw -- which currently seems to be in a particular need of tools allowing for strategizing such investments.\n",
    "\n",
    "The project will leverage widely available data to assess the number of eateries of various popular types across the districts of the city. Additional information concerning the population of the districts will be used to estimate the potential of the local markets. On this basis, the **saturation of local markets with given restaurant types can be gauged**. For instance, if in district A there are 10 Chinese restaurants per 1000 inhabitants, while in district B there are only 3, then if I wanted to open a Chinese restaurant, I would rather look for a place in district B. On the other hand, if I already had a place in district A waiting to be turned into some food paradise - what *kind* of paradise should it be? What if district A has all the Chinese restaurants it needs, but it suffers from a terrible lack of cafes with delicious desserts? \n",
    "![title](http://www.tolubie.pl/katalog/TOLUBIE_022.jpg)"
   ]
  },
  {
   "cell_type": "markdown",
   "metadata": {},
   "source": [
    "In short, the business problem posed in this project is to assess, **which districts of Warsaw have highest growth potential for different popular types of food places**. "
   ]
  }
 ],
 "metadata": {
  "kernelspec": {
   "display_name": "Python 3",
   "language": "python",
   "name": "python3"
  },
  "language_info": {
   "codemirror_mode": {
    "name": "ipython",
    "version": 3
   },
   "file_extension": ".py",
   "mimetype": "text/x-python",
   "name": "python",
   "nbconvert_exporter": "python",
   "pygments_lexer": "ipython3",
   "version": "3.7.1"
  }
 },
 "nbformat": 4,
 "nbformat_minor": 2
}
