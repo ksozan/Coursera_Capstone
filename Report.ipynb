{
 "cells": [
  {
   "cell_type": "markdown",
   "metadata": {},
   "source": [
    "# Sweet or sour? Local opportunities for new restaurants in Warsaw\n",
    "\n",
    "\n",
    "\n",
    "## Final report\n",
    "### *by Krzysztof Sozanski*                                                 \n",
    "### Jan 26, 2019\n"
   ]
  },
  {
   "cell_type": "markdown",
   "metadata": {},
   "source": [
    "---\n",
    "## Introduction: Business problem\n",
    "\n",
    "Warsaw - the city I live in - is the capital of Poland. The country's GDP has been now growing continously for 26 years (an EU record), with the economy doubling during this time and exponential characteristics of the growth. **Warsaw**, as the definite financial, political and social centre of the country, experiences some dramatic changes due to this rapid development. Not only the city's population keeps increasing, but also the overall quality of life, aspirations, and purchasing power of the citizens is on the rise."
   ]
  },
  {
   "cell_type": "markdown",
   "metadata": {},
   "source": [
    "Naturally, all these economic and social changes reflect in the daily habits of the people. One of these is the increasing tendency to eat out instead of cooking at home. This of course means that **plenty of new restaurants open**, with more and more varied offer. However, despite the growing demand on the market, many of the new eateries fail and **go bankrupt within the first few months**. Among the rapid changes on the food landscape of the city, it seems that quite many of the new openings are chaotic and randomly placed. Yet, among the most crucial factors determining success of such investments are their **location and profie**.\n",
    "\n",
    "---"
   ]
  },
  {
   "cell_type": "markdown",
   "metadata": {},
   "source": [
    "This project is an attempt to see whether simple analytical approach can provide valuable insights for enterpreneurs willing to open new restaurants. It is focused on Warsaw -- which currently seems to be in a particular need of tools allowing for strategizing such investments.\n",
    "\n",
    "The project leverages widely available data to assess the number of eateries of various popular types across the districts of the city. Additional information concerning the population of the districts is used to estimate the potential of the local markets. On this basis, the **saturation of local markets with given restaurant types can be gauged**. For instance, if in district A there are 10 Chinese restaurants per 1000 inhabitants, while in district B there are only 3, then if I wanted to open a Chinese restaurant, I would rather look for a place in district B. On the other hand, if I already had a place in district A waiting to be turned into some food paradise - what *kind* of paradise should it be? What if district A has all the Chinese restaurants it needs, but it suffers from a terrible lack of cafes with delicious desserts? "
   ]
  },
  {
   "cell_type": "markdown",
   "metadata": {},
   "source": [
    "In short, the business problem posed in this project is to assess, **which districts of Warsaw have highest growth potential for different popular types of food places**. \n",
    "\n",
    "___"
   ]
  },
  {
   "cell_type": "markdown",
   "metadata": {},
   "source": [
    "# Description of data sources\n",
    "\n",
    "The key source of data for this project is the Foursquare database. Even though the project concerns Warsaw, and Foursquare is not particularly popular in Poland, the service records thousands of eateries across the city. We can also assume that the fraction of places that is lacking from the Foursquare database is roughly consistent across different city districts as well as restaurant types. Since the scope of this analysis is purely comparative, the absolute numbers are not as relevalt as their *distributions*.\n",
    "\n",
    "![title](https://cdn0.tnwcdn.com/wp-content/blogs.dir/1/files/2014/07/blog-foursquarelogo.png)"
   ]
  },
  {
   "cell_type": "markdown",
   "metadata": {},
   "source": [
    "The full Foursquare category list embraces hundreds of entries and can be obtained as a json file from Foursqare website as well as through their API. The  code is written in a way allowing for any chosen number of categories to be fed into it. Due to the Foursquare API limitations, in this analysis only a very short list of 15 locally popular categories is taken into account. These selected categories are:\n",
    "* American Restaurant,\n",
    "* Asian Restaurant,\n",
    "* Bakery,\n",
    "* Cafe,\n",
    "* Coffee Shop,\t\n",
    "* Dessert Shop,\t\n",
    "* Fast Food Restaurant,\t\n",
    "* French Restaurant,\t\n",
    "* Italian Restaurant,\t\n",
    "* Kebab Restaurant,\t\n",
    "* Middle Eastern Restaurant,\n",
    "* Pizza Place,\t\n",
    "* Polish Restaurant,\t\n",
    "* Vegetarian Restaurant,\n",
    "* Bar.\n",
    "\n",
    "Unfortunately, a limit of 50 results per call is imposed by the Foursuqare regulations. However, initial checks revealed that only for few districy-venue type pairs this limit is reached.\n",
    "\n",
    "The core of the project is the comparison of the number of given venue types across different city districts. Warsaw is divided into 18 main districts, widely diffeing in sizes:\n",
    "![title](http://wcit.waw.pl/wp-content/uploads/2016/09/dzielnice-warszawy.jpg)"
   ]
  },
  {
   "cell_type": "markdown",
   "metadata": {},
   "source": [
    "Data on the names of the districts, their population (as of 2017) and area are scraped off a Wikipedia page: https://pl.wikipedia.org/wiki/Podzia%C5%82_administracyjny_Warszawy#Dzielnice_Warszawy .\n",
    "\n",
    "The coordinates of the centres of the districts are obtained from ArcGIS."
   ]
  },
  {
   "cell_type": "markdown",
   "metadata": {},
   "source": [
    "## Methodology\n",
    "\n",
    "To obtain the data from the Wikipedia page, Beautiful Soup library is used to put the desired data into a Pandas dataframe. The data on the coordinates of the district centres are obtained using the Geocoder library. The results are visualised on a map using Folium library. \n",
    "\n",
    "Data on the venues are obtained from Foursquare database via the API provided by the company. It is not feasible to feed the exact contours of the districts into Foursquare queries. Therefore, an rough disk approximation of the district shape is used.  The venue search is performed within a given radius of the district centre, proportional to the squre root of the district area. The radius is scaled by a factor of 0.7 to exclude the outskirts of given districts from the search, limit the total number of records retrieved from Foursquare, and curb the overlap betweed the different regions. This is not expected to introduce significant errors due to the comparative character of the analysis.\n",
    "\n",
    "Lists of eateries of different categories within each district (or rather, disk approximation of the district) are obtained via Foursquare queries performed in a nested loop and only their count is stored. Due to large variations in the area and population between the districts, direct analysis of the number of venues would not be conclusive. Instead, the obtained venue counts are scaled by the area of the disk-approximation of the district (i.e. the actual search area that they come from) and the population density in the district. In this way, an estimate of the number of venues of given type per 1000 inhabitants of the district is generated.\n",
    "\n",
    "Naturally, the base demand differs between the venue types (i.e. we may expect that more pizza places are needed per 1000 people than american restaurants, which are not as popular in Poland). Therefore, the scaled results need to be normalized. For each venue type, normalization across the districts is performed in a way that for the district with highest venue count/1000 inhabitants a value of 1.0 is returned. In this way, relative saturation of the local markets can be estimated. Normalization is performed using the MinMaxScaler from SciKit Learn library.\n",
    "\n",
    "The results are visualised on heatmaps generated using the Matplotlib library.\n",
    "___"
   ]
  },
  {
   "cell_type": "markdown",
   "metadata": {},
   "source": [
    "## Results"
   ]
  },
  {
   "cell_type": "markdown",
   "metadata": {},
   "source": [
    "A map of Warsaw, with superimposed areas corresponding to the districts and markers in their centres, is presented below:\n",
    "![title](https://raw.githubusercontent.com/ksozan/Coursera_Capstone/master/folium_map.jpg)"
   ]
  },
  {
   "cell_type": "markdown",
   "metadata": {},
   "source": [
    "The selected areas correspond to the centres of respective districts and overlap only slightly, while covering most of the inhabitated areas of the city. Their radii correlate with the actual size of the districts."
   ]
  },
  {
   "attachments": {},
   "cell_type": "markdown",
   "metadata": {},
   "source": [
    "The key output of the performed analysis is a heatmap, presenting saturation of given districts with various types of eateries. It is presented below:\n",
    "![title](https://raw.githubusercontent.com/ksozan/Coursera_Capstone/master/heatmap1.jpg)"
   ]
  },
  {
   "cell_type": "markdown",
   "metadata": {},
   "source": [
    "As can be seen in the heatmap, for most venue categories a single district is by far dominating the results, which is Śródmieście, i.e. city centre. Being home to many workplaces, cultural institutions, and hotels, as well as a hub for foot traffic and public transport -- while not embracing too many housings -- it can be expected to have a demand for restaurants much higher than would be justified by its officialy registered population. Since in this analysis we only have access to the data on permanent inhabitants of the districts (and not on the daily number of passer-by's, for instance), the city centre may skew the results strongly. Also, due to shortage of space for rent, high rent costs and huge competition, it is a very specific target for restaurant enterpreneurs, that evades simple analytical approach presented here. Therefore, it is recommendable to rerun the normalization and visualisation on a dataset excluding the city centre. The heatmap below presents the results of such analysis.\n",
    "![title](https://raw.githubusercontent.com/ksozan/Coursera_Capstone/master/heatmap2.jpg)"
   ]
  },
  {
   "cell_type": "markdown",
   "metadata": {},
   "source": [
    "---\n",
    "## Discussion\n",
    "\n",
    "After excluding the city centre from the picture, it becomes much easier to interpret. It can be seen now that relatively high overall saturation with food places is observed in Wilanów, Włochy, and Wola. All of these are largely residential areas, with many new development investments and, apparently, high demand for catering. There are however some obvious niches in these neighborhoods:\n",
    "\n",
    "* In *Wilanów*, there seems to be a lack of French and American restaurants, as well as bakeries;\n",
    "* In *Włochy*, there is definitely room for a Kebab place;\n",
    "* *Wola* needs more Asian restaurants, cafes, and bars.\n",
    "\n",
    "Bearing in mind high demand for other types of venues in these areas, the investments listed above will definitely present a better than average success chance.\n",
    "\n",
    "*Rembertów*, *Targówek*, *Ursus*, and *Wesoła* are residential districts that are rather distanced from the city centre. As can be seen in the heatmap, there is very low saturation with any kind of food venues in these areas. This may be due to the fact that these are not popular leisure areas and such investments there may seem risky. However, the current analysis clearly shows that there may be a lot of opportunities for food industry in these areas. This observation is only strengthen by the fact that these districts are quite far from the city hub areas, where many restaurants are located -- therefore, if their residents could eat locally instead of spending 30+ minutes on their way to dinner, many of them probably would do so.\n",
    "\n",
    "The district of Praga-Północ is renowned for its recent revival as a hub for alternative culture and nightlife. Therefore, even though it shows overall good potential for catering venues and relatively low saturation with e.g. Italian and American restaurants, this kind of investments may not be the best idea, since they may just not match the local specifics. This only points to the fact that the presented data analysis should only be treated as an indication of potential market niches, but not as definite guidelines: a business decision about opening a restaurant requires a much deeper reconnaissance of the local market."
   ]
  },
  {
   "cell_type": "markdown",
   "metadata": {},
   "source": [
    "---\n",
    "## Summary\n",
    "\n",
    "The performed analysis reveals the saturation of local markets of districts of the city of Warsaw with various types of food venues. The results may be useful for enterpreneurs working in the food industry, planning to open a new eatery. It may be used in two ways: either to choose a locally underrepresented venue kind when planning an investment in a given neighborhood, or to select a right (unsersaturated) district for opening a restaurant of a given type.\n",
    "\n",
    "Of course, the results are not fully comprehensive. Data acquisition is limited by the limits of free Foursquare API (both in terms of the number of calls, as well as the hard-wired limit of 50 results retrieved per query). The assignment of the venues to the districts is not perfect due to the disk-like approximation of the districts. Finally, Foursquare is not as popular in Poland as some other services (e.g. Google Places, Zomato, or TripAdvisor). Therefore, a more reliable set of results could probably be obtained if those more comprehensive data sources were used instead of Foursquare.\n",
    "\n",
    "Having stated that, it is worth to note that even these basic results may offer some valuable insights for business development in local food industry. Also, the project presents a vast potential for further development and promises strong recommentadions."
   ]
  },
  {
   "cell_type": "markdown",
   "metadata": {},
   "source": [
    "---\n",
    "![title](https://ae01.alicdn.com/kf/HTB1VE6RRVXXXXcfaXXXq6xXFXXX7/Bon-Appetit-Wall-Stickers-Quotes-Waterproof-Kitchen-Wall-Tile-Stickers-Vinyl-Art-Words-Murals.jpg)\n",
    "---"
   ]
  }
 ],
 "metadata": {
  "kernelspec": {
   "display_name": "Python 3",
   "language": "python",
   "name": "python3"
  },
  "language_info": {
   "codemirror_mode": {
    "name": "ipython",
    "version": 3
   },
   "file_extension": ".py",
   "mimetype": "text/x-python",
   "name": "python",
   "nbconvert_exporter": "python",
   "pygments_lexer": "ipython3",
   "version": "3.7.1"
  }
 },
 "nbformat": 4,
 "nbformat_minor": 2
}
