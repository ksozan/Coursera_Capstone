{
 "cells": [
  {
   "cell_type": "markdown",
   "metadata": {},
   "source": [
    "## Description of data sources\n",
    "\n",
    "The key source of data for this project will be Foursquare database, accesed via the provided API. Even though the project concerns Warsaw, and Foursquare is not particularly popular in Poland, the service records thousands of eateries across the city. We can also assume that the fraction of places that is lacking from the Foursquare database is roughly consistent across different city districts as well as restaurant types. Since the scope of this analysis is purely comparative, the absolute numbers are not as relevalt as their *distributions*.\n",
    "\n",
    "![title](https://cdn0.tnwcdn.com/wp-content/blogs.dir/1/files/2014/07/blog-foursquarelogo.png)"
   ]
  },
  {
   "cell_type": "markdown",
   "metadata": {},
   "source": [
    "Due to limited capabilities of freely available Foursquare API, only several types of locally popular eateries will be included in the analysis (although the code should be easy to modify and scale up if need be). The Foursquare-defined venue category ID's will be used to narrow down the queries to a given venue type. The selected types taken into account in the analysis are:\n",
    "* American Restaurant,\n",
    "* Asian Restaurant,\n",
    "* Bakery,\n",
    "* Cafe,\n",
    "* Coffee Shop,\t\n",
    "* Dessert Shop,\t\n",
    "* Fast Food Restaurant,\t\n",
    "* French Restaurant,\t\n",
    "* Italian Restaurant,\t\n",
    "* Kebab Restaurant,\t\n",
    "* Middle Eastern Restaurant,\n",
    "* Pizza Place,\t\n",
    "* Polish Restaurant,\t\n",
    "* Vegetarian Restaurant,\n",
    "* Bar."
   ]
  },
  {
   "cell_type": "markdown",
   "metadata": {},
   "source": [
    "The core of the project is the comparison of the number of given venue types across different city districts. Unfortunately, Foursquare entries do not provide the data on the district where the venue is located - therefore, this information will have to be inferred otherwise.\n",
    "\n",
    "Warsaw is divided into 18 main districts, widely diffeing in sizes:\n",
    "![title](http://wcit.waw.pl/wp-content/uploads/2016/09/dzielnice-warszawy.jpg)"
   ]
  },
  {
   "cell_type": "markdown",
   "metadata": {},
   "source": [
    "Data on the names of the districts, their population (as of 2017) and area will be scraped off a Wikipedia page: https://pl.wikipedia.org/wiki/Podzia%C5%82_administracyjny_Warszawy#Dzielnice_Warszawy .\n",
    "\n",
    "It is not feasible to feed the exact contours of the districts into Foursquare queries. Therefore, an rough approximation will be used. The coordinates of the centres of the districts will be obtained using the Geocoder library, with ArcGIS used as the data provider. The venue search will be performed within a given radius of the district centre, proportional to the squre root of the district area. Thus, each district will be approximated by a disc. Again, this is not expected to introduce significant errors due to the comparative character of the analysis.\n",
    "\n",
    "The total number of eateries of different categories within each district (or rather, disk approximation of the district) will be calculated. Next, these values will be scaled by the disk area and population density in a given district. This will provide a measure of how many restaurants of given type there are per 1000 inhabitants of each district. Such treatment allows to compensate for the variation in size and population between the districts. Finally, the values will be normalized across the venue type. In this way, a measure of saturation of local markets with given venue types will be obtained. Hopefully, this data will provide an insight into the local perspectives of development for enterpreneurs willing to fill in the market gaps when planning new restaurants."
   ]
  }
 ],
 "metadata": {
  "kernelspec": {
   "display_name": "Python 3",
   "language": "python",
   "name": "python3"
  },
  "language_info": {
   "codemirror_mode": {
    "name": "ipython",
    "version": 3
   },
   "file_extension": ".py",
   "mimetype": "text/x-python",
   "name": "python",
   "nbconvert_exporter": "python",
   "pygments_lexer": "ipython3",
   "version": "3.7.1"
  }
 },
 "nbformat": 4,
 "nbformat_minor": 2
}
